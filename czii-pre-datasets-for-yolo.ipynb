{
 "cells": [
  {
   "cell_type": "markdown",
   "id": "3bc69ac8",
   "metadata": {
    "_cell_guid": "b1076dfc-b9ad-4769-8c92-a6c4dae69d19",
    "_uuid": "8f2839f25d086af736a60e9eeb907d3b93b6e0e5",
    "execution": {
     "iopub.execute_input": "2024-12-05T21:23:37.317946Z",
     "iopub.status.busy": "2024-12-05T21:23:37.316944Z",
     "iopub.status.idle": "2024-12-05T21:23:54.039570Z",
     "shell.execute_reply": "2024-12-05T21:23:54.038202Z",
     "shell.execute_reply.started": "2024-12-05T21:23:37.317856Z"
    },
    "papermill": {
     "duration": 0.004783,
     "end_time": "2024-12-07T08:59:00.095384",
     "exception": false,
     "start_time": "2024-12-07T08:59:00.090601",
     "status": "completed"
    },
    "tags": []
   },
   "source": [
    "# CZII making datasets for YOLO\n",
    "\n",
    "This is a challenging competition in which participants must identify the location of particles contained in a 3D volumetric image.\n",
    "\n",
    "There are already some great baselines published, but most of them focus on 3D volumetric images.\n",
    "\n",
    "However, using 3D images directly is difficult: for example, we always have to be careful about VRAM consumption: even a small 3D image uses a lot of memory.\n",
    "\n",
    "Therefore, I propose to decompose the 3D data provided by the host into 2D image slices and reduce it to an object detection problem.\n",
    "\n",
    "This method allows us to treat just 7 3D images as more than 1k 2D images, mitigating the data scarcity problem."
   ]
  },
  {
   "cell_type": "markdown",
   "id": "9f23f4f8",
   "metadata": {
    "papermill": {
     "duration": 0.003686,
     "end_time": "2024-12-07T08:59:00.103282",
     "exception": false,
     "start_time": "2024-12-07T08:59:00.099596",
     "status": "completed"
    },
    "tags": []
   },
   "source": [
    "# Install and Import modules"
   ]
  },
  {
   "cell_type": "code",
   "execution_count": 1,
   "id": "61002bae",
   "metadata": {
    "papermill": {
     "duration": 14.906332,
     "end_time": "2024-12-07T08:59:15.013529",
     "exception": false,
     "start_time": "2024-12-07T08:59:00.107197",
     "status": "completed"
    },
    "tags": []
   },
   "outputs": [],
   "source": [
    "#!pip install zarr"
   ]
  },
  {
   "cell_type": "code",
   "execution_count": 2,
   "id": "e3933c53",
   "metadata": {
    "papermill": {
     "duration": 1.168816,
     "end_time": "2024-12-07T08:59:16.188924",
     "exception": false,
     "start_time": "2024-12-07T08:59:15.020108",
     "status": "completed"
    },
    "tags": []
   },
   "outputs": [],
   "source": [
    "import json\n",
    "import numpy as np\n",
    "import pandas as pd\n",
    "import matplotlib.pyplot as plt\n",
    "import zarr\n",
    "from tqdm import tqdm\n",
    "import glob, os\n",
    "import cv2"
   ]
  },
  {
   "cell_type": "code",
   "execution_count": 3,
   "id": "964c8ed8",
   "metadata": {
    "papermill": {
     "duration": 0.022585,
     "end_time": "2024-12-07T08:59:16.216843",
     "exception": false,
     "start_time": "2024-12-07T08:59:16.194258",
     "status": "completed"
    },
    "tags": []
   },
   "outputs": [
    {
     "data": {
      "text/plain": [
       "{0: 'TS_5_4',\n",
       " 1: 'TS_69_2',\n",
       " 2: 'TS_6_4',\n",
       " 3: 'TS_6_6',\n",
       " 4: 'TS_73_6',\n",
       " 5: 'TS_86_3',\n",
       " 6: 'TS_99_9'}"
      ]
     },
     "execution_count": 3,
     "metadata": {},
     "output_type": "execute_result"
    }
   ],
   "source": [
    "import os\n",
    "import glob\n",
    "\n",
    "# Get sorted list of run directories\n",
    "runs = sorted(glob.glob(r\"C:\\Users\\ifons\\AI_Boot_Camp\\project3\\czii-cryo-et-object-identification\\train\\overlay\\ExperimentRuns\\*\"))\n",
    "runs = [os.path.basename(x) for x in runs]\n",
    "\n",
    "# Create index-to-run and run-to-index dictionaries\n",
    "i2r_dict = {i: r for i, r in zip(range(len(runs)), runs)}\n",
    "r2i_dict = {r: i for i, r in zip(range(len(runs)), runs)}\n",
    "\n",
    "# Print the dictionaries\n",
    "i2r_dict\n",
    "#print(\"Run to Index Dictionary:\", r2i_dict)\n",
    "\n"
   ]
  },
  {
   "cell_type": "markdown",
   "id": "c9f21c89",
   "metadata": {
    "papermill": {
     "duration": 0.006288,
     "end_time": "2024-12-07T08:59:16.228571",
     "exception": false,
     "start_time": "2024-12-07T08:59:16.222283",
     "status": "completed"
    },
    "tags": []
   },
   "source": [
    "# Normalize Function\n",
    "To treat it as an image, normalize it to a value between 0 and 255.\n",
    "\n",
    "1e-12 is very small and has the meaning of epsilon."
   ]
  },
  {
   "cell_type": "code",
   "execution_count": 4,
   "id": "4953ae27",
   "metadata": {
    "papermill": {
     "duration": 0.014272,
     "end_time": "2024-12-07T08:59:16.248320",
     "exception": false,
     "start_time": "2024-12-07T08:59:16.234048",
     "status": "completed"
    },
    "tags": []
   },
   "outputs": [],
   "source": [
    "def convert_to_8bit(x):\n",
    "    lower, upper = np.percentile(x, (0.5, 99.5))\n",
    "    x = np.clip(x, lower, upper)\n",
    "    x = (x - x.min()) / (x.max() - x.min() + 1e-12) * 255\n",
    "    return x.round().astype(\"uint8\")"
   ]
  },
  {
   "cell_type": "markdown",
   "id": "ebb54635",
   "metadata": {
    "papermill": {
     "duration": 0.004978,
     "end_time": "2024-12-07T08:59:16.258542",
     "exception": false,
     "start_time": "2024-12-07T08:59:16.253564",
     "status": "completed"
    },
    "tags": []
   },
   "source": [
    "# Information about labels"
   ]
  },
  {
   "cell_type": "code",
   "execution_count": 5,
   "id": "68590488",
   "metadata": {
    "papermill": {
     "duration": 0.014234,
     "end_time": "2024-12-07T08:59:16.277915",
     "exception": false,
     "start_time": "2024-12-07T08:59:16.263681",
     "status": "completed"
    },
    "tags": []
   },
   "outputs": [],
   "source": [
    "p2i_dict = {\n",
    "        'apo-ferritin': 0,\n",
    "        'beta-amylase': 1,\n",
    "        'beta-galactosidase': 2,\n",
    "        'ribosome': 3,\n",
    "        'thyroglobulin': 4,\n",
    "        'virus-like-particle': 5\n",
    "    }\n",
    "\n",
    "i2p = {v:k for k, v in p2i_dict.items()}\n",
    "\n",
    "particle_radius = {\n",
    "        'apo-ferritin': 60,\n",
    "        'beta-amylase': 65,\n",
    "        'beta-galactosidase': 90,\n",
    "        'ribosome': 150,\n",
    "        'thyroglobulin': 130,\n",
    "        'virus-like-particle': 135,\n",
    "    }"
   ]
  },
  {
   "cell_type": "code",
   "execution_count": 6,
   "id": "f9cb99b3",
   "metadata": {
    "papermill": {
     "duration": 0.01669,
     "end_time": "2024-12-07T08:59:16.300074",
     "exception": false,
     "start_time": "2024-12-07T08:59:16.283384",
     "status": "completed"
    },
    "tags": []
   },
   "outputs": [],
   "source": [
    "particle_names = ['apo-ferritin', 'beta-amylase', 'beta-galactosidase', 'ribosome', 'thyroglobulin', 'virus-like-particle']"
   ]
  },
  {
   "cell_type": "markdown",
   "id": "6ab59a00",
   "metadata": {
    "papermill": {
     "duration": 0.007529,
     "end_time": "2024-12-07T08:59:16.315435",
     "exception": false,
     "start_time": "2024-12-07T08:59:16.307906",
     "status": "completed"
    },
    "tags": []
   },
   "source": [
    "# Main function for making datasets for YOLO\n",
    "This is the main function.\n",
    "\n",
    "Watch that YOLO annotation requires normalized 0 to 1 value range and (center_x, center_y, width, height) coordinate format."
   ]
  },
  {
   "cell_type": "code",
   "execution_count": 7,
   "id": "357ffc26",
   "metadata": {
    "papermill": {
     "duration": 0.027644,
     "end_time": "2024-12-07T08:59:16.352215",
     "exception": false,
     "start_time": "2024-12-07T08:59:16.324571",
     "status": "completed"
    },
    "tags": []
   },
   "outputs": [],
   "source": [
    "def make_annotate_yolo(run_name, is_train_path=True):\n",
    "    # to split validation\n",
    "    is_train_path = 'train' if is_train_path else 'val'\n",
    "\n",
    "    # read a volume\n",
    "    vol = zarr.open(f'/kaggle/input/czii-cryo-et-object-identification/train/static/ExperimentRuns/{r}/VoxelSpacing10.000/denoised.zarr', mode='r')\n",
    "    # use largest images\n",
    "    vol = vol[0]\n",
    "    # normalize [0, 255]\n",
    "    vol2 = convert_to_8bit(vol)\n",
    "    \n",
    "    n_imgs = vol2.shape[0]\n",
    "    # process each slices\n",
    "    for j in range(n_imgs):\n",
    "        newvol = vol2[j]\n",
    "        newvolf = np.stack([newvol]*3, axis=-1)\n",
    "        # YOLO requires image_size is multiple of 32\n",
    "        newvolf = cv2.resize(newvolf, (640,640))\n",
    "        # save as 1 slice\n",
    "        cv2.imwrite(f'images/{is_train_path}/{run_name}_{j*10}.png', newvolf)\n",
    "        # make txt file for annotation\n",
    "        with open(f'labels/{is_train_path}/{run_name}_{j*10}.txt', 'w'):\n",
    "            pass # make empty file\n",
    "            \n",
    "    # process each paticle types\n",
    "    for p, particle in enumerate(tqdm(particle_names)):\n",
    "        # we do not have to detect beta-amylase which weight is 0\n",
    "        if particle==\"beta-amylase\":\n",
    "            continue\n",
    "        json_each_paticle = f\"/kaggle/input/czii-cryo-et-object-identification/train/overlay/ExperimentRuns/{run_name}/Picks/{particle}.json\"\n",
    "        df = pd.read_json(json_each_paticle) \n",
    "        # pick each coordinate of particles\n",
    "        for axis in \"x\", \"y\", \"z\":\n",
    "            df[axis] = df.points.apply(lambda x: x[\"location\"][axis])\n",
    "\n",
    "        \n",
    "        radius = particle_radius[particle]\n",
    "        for i, row in df.iterrows():\n",
    "            # The radius from the center of the particle is used to determine the slices present.\n",
    "            start_z = np.round(row['z'] - radius).astype(np.int32)\n",
    "            start_z = max(0, start_z//10) # 10 means pixelspacing\n",
    "            end_z = np.round(row['z'] + radius).astype(np.int32)\n",
    "            end_z = min(n_imgs, end_z//10) # 10 means pixelspacing\n",
    "            \n",
    "            for j in range(start_z+1, end_z+1-1, 1):\n",
    "                # white the results of annotation\n",
    "                with open(f'labels/{is_train_path}/{run_name}_{j*10}.txt', 'a') as f:\n",
    "                    f.write(f'{p2i_dict[particle]} {row[\"x\"]/10/vol2.shape[1]} {row[\"y\"]/10/vol2.shape[2]} {radius/10/vol2.shape[1]*2} {radius/10/vol2.shape[2]*2} \\n')\n",
    "    "
   ]
  },
  {
   "cell_type": "code",
   "execution_count": 8,
   "id": "8002c362-32bf-4bff-94d2-01b76ee75e72",
   "metadata": {},
   "outputs": [
    {
     "name": "stderr",
     "output_type": "stream",
     "text": [
      "100%|████████████████████████████████████████████████████████████████████████████████████| 6/6 [00:00<00:00,  9.76it/s]\n",
      "100%|████████████████████████████████████████████████████████████████████████████████████| 6/6 [00:00<00:00,  9.55it/s]\n",
      "100%|████████████████████████████████████████████████████████████████████████████████████| 6/6 [00:00<00:00,  6.60it/s]\n",
      "100%|████████████████████████████████████████████████████████████████████████████████████| 6/6 [00:00<00:00,  9.80it/s]\n",
      "100%|████████████████████████████████████████████████████████████████████████████████████| 6/6 [00:00<00:00,  6.72it/s]\n",
      "100%|████████████████████████████████████████████████████████████████████████████████████| 6/6 [00:01<00:00,  5.75it/s]\n",
      "100%|████████████████████████████████████████████████████████████████████████████████████| 6/6 [00:00<00:00,  6.37it/s]\n"
     ]
    }
   ],
   "source": [
    "# Assuming convert_to_8bit and particle_radius are already defined elsewhere in your code.\n",
    "\n",
    "def make_annotate_yolo(run_name, is_train_path=True):\n",
    "    # to split validation\n",
    "    is_train_path = 'train' if is_train_path else 'val'\n",
    "\n",
    "    # Construct the correct path\n",
    "    path = f\"C:\\\\Users\\\\ifons\\\\AI_Boot_Camp\\\\project3\\\\czii-cryo-et-object-identification\\\\train\\\\static\\\\ExperimentRuns\\\\{run_name}\\\\VoxelSpacing10.000\\\\denoised.zarr\"\n",
    "    \n",
    "    # Check if the path exists\n",
    "    if not os.path.exists(path):\n",
    "        print(f\"Path does not exist: {path}\")\n",
    "        return\n",
    "    \n",
    "    # read a volume\n",
    "    vol = zarr.open(path, mode='r')\n",
    "    # use largest images\n",
    "    vol = vol[0]\n",
    "    # normalize [0, 255]\n",
    "    vol2 = convert_to_8bit(vol)\n",
    "    \n",
    "    n_imgs = vol2.shape[0]\n",
    "    # process each slices\n",
    "    for j in range(n_imgs):\n",
    "        newvol = vol2[j]\n",
    "        newvolf = np.stack([newvol]*3, axis=-1)\n",
    "        # YOLO requires image_size is multiple of 32\n",
    "        newvolf = cv2.resize(newvolf, (640, 640))\n",
    "        # save as 1 slice\n",
    "        cv2.imwrite(f'images/{is_train_path}/{run_name}_{j*10}.png', newvolf)\n",
    "        # make txt file for annotation\n",
    "        with open(f'labels/{is_train_path}/{run_name}_{j*10}.txt', 'w'):\n",
    "            pass  # make empty file\n",
    "            \n",
    "    # process each particle type\n",
    "    for p, particle in enumerate(tqdm(particle_names)):\n",
    "        # we do not have to detect beta-amylase which weight is 0\n",
    "        if particle == \"beta-amylase\":\n",
    "            continue\n",
    "        \n",
    "        json_each_particle = f\"C:\\\\Users\\\\ifons\\\\AI_Boot_Camp\\\\project3\\\\czii-cryo-et-object-identification\\\\train\\\\overlay\\\\ExperimentRuns\\\\{run_name}\\\\Picks\\\\{particle}.json\"\n",
    "        if not os.path.exists(json_each_particle):\n",
    "            print(f\"File does not exist: {json_each_particle}\")\n",
    "            continue\n",
    "        \n",
    "        df = pd.read_json(json_each_particle)\n",
    "        # pick each coordinate of particles\n",
    "        for axis in \"x\", \"y\", \"z\":\n",
    "            df[axis] = df.points.apply(lambda x: x[\"location\"][axis])\n",
    "\n",
    "        radius = particle_radius[particle]\n",
    "        for i, row in df.iterrows():\n",
    "            # The radius from the center of the particle is used to determine the slices present.\n",
    "            start_z = np.round(row['z'] - radius).astype(np.int32)\n",
    "            start_z = max(0, start_z // 10)  # 10 means pixel spacing\n",
    "            end_z = np.round(row['z'] + radius).astype(np.int32)\n",
    "            end_z = min(n_imgs, end_z // 10)  # 10 means pixel spacing\n",
    "            \n",
    "            for j in range(start_z + 1, end_z + 1 - 1, 1):\n",
    "                # write the results of annotation\n",
    "                with open(f'labels/{is_train_path}/{run_name}_{j*10}.txt', 'a') as f:\n",
    "                    f.write(f'{p2i_dict[particle]} {row[\"x\"]/10/vol2.shape[1]} {row[\"y\"]/10/vol2.shape[2]} {radius/10/vol2.shape[1]*2} {radius/10/vol2.shape[2]*2}\\n')\n",
    "\n",
    "# Example usage\n",
    "runs = sorted(glob.glob(r\"C:\\Users\\ifons\\AI_Boot_Camp\\project3\\czii-cryo-et-object-identification\\train\\overlay\\ExperimentRuns\\*\"))\n",
    "runs = [os.path.basename(x) for x in runs]\n",
    "\n",
    "# Use the first run as validation\n",
    "for i, r in enumerate(runs):\n",
    "    make_annotate_yolo(r, is_train_path=False if i == 0 else True)\n",
    "\n"
   ]
  },
  {
   "cell_type": "markdown",
   "id": "c5934bdc",
   "metadata": {
    "papermill": {
     "duration": 0.005622,
     "end_time": "2024-12-07T08:59:16.363176",
     "exception": false,
     "start_time": "2024-12-07T08:59:16.357554",
     "status": "completed"
    },
    "tags": []
   },
   "source": [
    "# Prepare Folders"
   ]
  },
  {
   "cell_type": "code",
   "execution_count": 9,
   "id": "fab12149",
   "metadata": {
    "papermill": {
     "duration": 0.017474,
     "end_time": "2024-12-07T08:59:16.390241",
     "exception": false,
     "start_time": "2024-12-07T08:59:16.372767",
     "status": "completed"
    },
    "tags": []
   },
   "outputs": [],
   "source": [
    "os.makedirs(\"images/train\", exist_ok=True)\n",
    "os.makedirs(\"images/val\", exist_ok=True)\n",
    "os.makedirs(\"labels/val\", exist_ok=True)\n",
    "os.makedirs(\"labels/train\", exist_ok=True)"
   ]
  },
  {
   "cell_type": "markdown",
   "id": "6fa023a5",
   "metadata": {
    "papermill": {
     "duration": 0.004852,
     "end_time": "2024-12-07T08:59:16.400276",
     "exception": false,
     "start_time": "2024-12-07T08:59:16.395424",
     "status": "completed"
    },
    "tags": []
   },
   "source": [
    "# Main loop to make slice images and annotations"
   ]
  },
  {
   "cell_type": "code",
   "execution_count": 10,
   "id": "06f494d9",
   "metadata": {
    "papermill": {
     "duration": 81.089202,
     "end_time": "2024-12-07T09:00:37.494559",
     "exception": false,
     "start_time": "2024-12-07T08:59:16.405357",
     "status": "completed"
    },
    "tags": []
   },
   "outputs": [
    {
     "name": "stderr",
     "output_type": "stream",
     "text": [
      "100%|████████████████████████████████████████████████████████████████████████████████████| 6/6 [00:00<00:00, 10.34it/s]\n",
      "100%|████████████████████████████████████████████████████████████████████████████████████| 6/6 [00:00<00:00,  9.69it/s]\n",
      "100%|████████████████████████████████████████████████████████████████████████████████████| 6/6 [00:00<00:00,  6.78it/s]\n",
      "100%|████████████████████████████████████████████████████████████████████████████████████| 6/6 [00:00<00:00, 10.48it/s]\n",
      "100%|████████████████████████████████████████████████████████████████████████████████████| 6/6 [00:00<00:00,  7.17it/s]\n",
      "100%|████████████████████████████████████████████████████████████████████████████████████| 6/6 [00:00<00:00,  6.04it/s]\n",
      "100%|████████████████████████████████████████████████████████████████████████████████████| 6/6 [00:00<00:00,  6.48it/s]\n"
     ]
    }
   ],
   "source": [
    "# use TS_5_4 as validation\n",
    "for i, r in enumerate(runs):\n",
    "    make_annotate_yolo(r, is_train_path=False if i==0 else True)"
   ]
  },
  {
   "cell_type": "markdown",
   "id": "707ea10e",
   "metadata": {
    "papermill": {
     "duration": 0.006568,
     "end_time": "2024-12-07T09:00:37.508368",
     "exception": false,
     "start_time": "2024-12-07T09:00:37.501800",
     "status": "completed"
    },
    "tags": []
   },
   "source": [
    "Put them all in one folder."
   ]
  },
  {
   "cell_type": "code",
   "execution_count": 11,
   "id": "c52547e5",
   "metadata": {
    "papermill": {
     "duration": 1.635747,
     "end_time": "2024-12-07T09:00:39.151115",
     "exception": false,
     "start_time": "2024-12-07T09:00:37.515368",
     "status": "completed"
    },
    "tags": []
   },
   "outputs": [
    {
     "data": {
      "text/plain": [
       "'datasets/czii_det2d/labels\\\\val'"
      ]
     },
     "execution_count": 11,
     "metadata": {},
     "output_type": "execute_result"
    }
   ],
   "source": [
    "import shutil\n",
    "os.makedirs('datasets/czii_det2d', exist_ok=True)\n",
    "shutil.move('images/train', 'datasets/czii_det2d/images/train')\n",
    "shutil.move('images/val', 'datasets/czii_det2d/images')\n",
    "shutil.move('labels/train', 'datasets/czii_det2d/labels/train')\n",
    "shutil.move('labels/val', 'datasets/czii_det2d/labels')"
   ]
  },
  {
   "cell_type": "markdown",
   "id": "4be912ec",
   "metadata": {
    "papermill": {
     "duration": 0.007981,
     "end_time": "2024-12-07T09:00:39.167973",
     "exception": false,
     "start_time": "2024-12-07T09:00:39.159992",
     "status": "completed"
    },
    "tags": []
   },
   "source": [
    "# make yaml file for Training \n",
    "We need to create a yaml configuration file for training, the format of which will not be detailed here."
   ]
  },
  {
   "cell_type": "code",
   "execution_count": 12,
   "id": "fd5b8f78-3632-4c21-a649-c4341dcc00d3",
   "metadata": {},
   "outputs": [
    {
     "name": "stdout",
     "output_type": "stream",
     "text": [
      "Overwriting czii_conf.yaml\n"
     ]
    }
   ],
   "source": [
    "%%writefile czii_conf.yaml\n",
    "\n",
    "path: C:/Users/ifons/AI_Boot_Camp/project3/czii-cryo-et-object-identification/train/static/ExperimentRuns # dataset root dir\n",
    "train: images/train # train images (relative to 'path') \n",
    "val: images/val # val images (relative to 'path') \n",
    "\n",
    "# Classes\n",
    "names:\n",
    "  0: apo-ferritin\n",
    "  1: beta-amylase\n",
    "  2: beta-galactosidase\n",
    "  3: ribosome\n",
    "  4: thyroglobulin\n",
    "  5: virus-like-particle\n"
   ]
  },
  {
   "cell_type": "markdown",
   "id": "3d9759e8",
   "metadata": {
    "papermill": {
     "duration": 0.00762,
     "end_time": "2024-12-07T09:00:39.210497",
     "exception": false,
     "start_time": "2024-12-07T09:00:39.202877",
     "status": "completed"
    },
    "tags": []
   },
   "source": [
    "# Continue to Model czii_yolo11_training_2D_baseline.ipynb "
   ]
  },
  {
   "cell_type": "code",
   "execution_count": null,
   "id": "0bac1ac8-ebf5-4c30-83a5-05103da9a3c9",
   "metadata": {},
   "outputs": [],
   "source": []
  }
 ],
 "metadata": {
  "kaggle": {
   "accelerator": "none",
   "dataSources": [
    {
     "databundleVersionId": 10033515,
     "sourceId": 84969,
     "sourceType": "competition"
    }
   ],
   "dockerImageVersionId": 30804,
   "isGpuEnabled": false,
   "isInternetEnabled": true,
   "language": "python",
   "sourceType": "notebook"
  },
  "kernelspec": {
   "display_name": "Python 3 (ipykernel)",
   "language": "python",
   "name": "python3"
  },
  "language_info": {
   "codemirror_mode": {
    "name": "ipython",
    "version": 3
   },
   "file_extension": ".py",
   "mimetype": "text/x-python",
   "name": "python",
   "nbconvert_exporter": "python",
   "pygments_lexer": "ipython3",
   "version": "3.10.16"
  },
  "papermill": {
   "default_parameters": {},
   "duration": 102.288778,
   "end_time": "2024-12-07T09:00:39.739722",
   "environment_variables": {},
   "exception": null,
   "input_path": "__notebook__.ipynb",
   "output_path": "__notebook__.ipynb",
   "parameters": {},
   "start_time": "2024-12-07T08:58:57.450944",
   "version": "2.6.0"
  }
 },
 "nbformat": 4,
 "nbformat_minor": 5
}
